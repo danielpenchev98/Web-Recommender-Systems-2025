{
 "cells": [
  {
   "cell_type": "markdown",
   "id": "ae6011ca",
   "metadata": {},
   "source": [
    "# Content-based recommendation"
   ]
  },
  {
   "cell_type": "code",
   "execution_count": 6,
   "id": "a48d8fe7",
   "metadata": {},
   "outputs": [],
   "source": [
    "# Load data generated in Session 1 or the provided data splits (see Absalon, W7 Lab)\n",
    "import pandas as pd\n",
    "\n",
    "df_train = pd.read_pickle(\"train_dataframe.pkl\")\n",
    "df_test = pd.read_pickle(\"test_dataframe.pkl\")"
   ]
  },
  {
   "cell_type": "markdown",
   "id": "4a455b8a",
   "metadata": {},
   "source": [
    "# Exercise 1\n",
    "In this exercise, you will build user profiles using TF-IDF vectors and use them to get the recommended items.\n",
    "\n",
    "Based on the TF-IDF vectors obtained in the Exercise 2 from Week 09, represent each user in the same vector space. Amongst other feasible solutions, you can represent a user (creating  a user profile) by computing the weighted mean of the items vectors, from the items that have been rated by the users in the training set. Reflect on this way of creating the user profile; is there a better way to make use of low ratings?\n",
    "\n",
    "For all users, compute the cosine similarity with each product that they have not rated in the training set  (**unobserved ratings**). Take the top-5 items with the highest cosine similarity as the top-5 recommended items. \n",
    "\n",
    "What are the top-5 recommended items for user `A39WWMBA0299ZF`? Print out the top-5 items for said user and their similarity score, rounded to three decimal places.  "
   ]
  },
  {
   "cell_type": "code",
   "execution_count": 119,
   "id": "403ff409",
   "metadata": {},
   "outputs": [],
   "source": [
    "import os\n",
    "import pickle \n",
    "import numpy as np\n",
    "from collections import defaultdict\n",
    "from sklearn.metrics.pairwise import cosine_similarity\n",
    "from pprint import pprint\n",
    "from typing import Dict, Any, List\n",
    "\n",
    "# Load TF-IDF\n",
    "with open('W09_tfidf.pickle', 'rb') as handle:\n",
    "    X_tfidf = pickle.load(handle)\n",
    "with open('W09_map_asin_id.pickle', 'rb') as handle:\n",
    "    map_asin_id = pickle.load(handle)\n"
   ]
  },
  {
   "cell_type": "code",
   "execution_count": 120,
   "id": "b19447d9",
   "metadata": {},
   "outputs": [
    {
     "data": {
      "text/plain": [
       "(981,)"
      ]
     },
     "execution_count": 120,
     "metadata": {},
     "output_type": "execute_result"
    }
   ],
   "source": [
    "df_train.reviewerID.unique().shape"
   ]
  },
  {
   "cell_type": "code",
   "execution_count": 121,
   "id": "d5a126ff",
   "metadata": {},
   "outputs": [
    {
     "data": {
      "text/plain": [
       "(949,)"
      ]
     },
     "execution_count": 121,
     "metadata": {},
     "output_type": "execute_result"
    }
   ],
   "source": [
    "df_test.reviewerID.unique().shape"
   ]
  },
  {
   "cell_type": "code",
   "execution_count": 122,
   "id": "a56026de",
   "metadata": {},
   "outputs": [],
   "source": [
    "def get_top_k_user_i(predictions: Dict[str, Dict[str,float]],\n",
    "                     user_id: str, \n",
    "                     k: int) -> List[Any]:\n",
    "    \"\"\"Retrieve the top-K recommended items for a given user.\n",
    "    Args:\n",
    "        predictions: A dictionary containing the similarities \n",
    "            between users and items (e.g., keys are user ids, \n",
    "            values are dictionaries containing the similary \n",
    "            of the corresponding user to each item)\n",
    "        user_id(str): The user we want to extract top-K recommendations for \n",
    "        k(int): The number of recommendation to output for each user.\n",
    "    Returns:\n",
    "    List of recommended items  \n",
    "    \"\"\"\n",
    "    return sorted(predictions[user_id], key=lambda x: x[1], reverse=True)[:k]\n"
   ]
  },
  {
   "cell_type": "code",
   "execution_count": 123,
   "id": "2360ed16",
   "metadata": {},
   "outputs": [
    {
     "data": {
      "text/plain": [
       "[5, 6, 13]"
      ]
     },
     "execution_count": 123,
     "metadata": {},
     "output_type": "execute_result"
    }
   ],
   "source": [
    "rated_item_id_in_TFIDF"
   ]
  },
  {
   "cell_type": "code",
   "execution_count": 124,
   "id": "ecb8fe9c",
   "metadata": {},
   "outputs": [
    {
     "data": {
      "text/plain": [
       "<3x471 sparse matrix of type '<class 'numpy.float64'>'\n",
       "\twith 28 stored elements in Compressed Sparse Row format>"
      ]
     },
     "execution_count": 124,
     "metadata": {},
     "output_type": "execute_result"
    }
   ],
   "source": [
    "X_tfidf[rated_item_id_in_TFIDF]"
   ]
  },
  {
   "cell_type": "code",
   "execution_count": 125,
   "id": "a0256848",
   "metadata": {},
   "outputs": [],
   "source": [
    "# calculating the user profile for each user\n",
    "list_of_users_in_train_set = df_train.reviewerID.unique().tolist()\n",
    "user_profiles = {}\n",
    "unrated_user_items = {}\n",
    "for user in list_of_users_in_train_set:\n",
    "    ratings_given_by_user = df_train[df_train.reviewerID==user]\n",
    "    items_rated_by_user = ratings_given_by_user.asin.to_numpy()\n",
    "\n",
    "    rated_item_id_in_TFIDF = [map_asin_id[item] for item in items_rated_by_user]\n",
    "    \n",
    "    tfidf_embedding_for_rated_items = np.array(X_tfidf[rated_item_id_in_TFIDF].toarray())\n",
    "\n",
    "    # center the tfidf features using per feature mean\n",
    "    #means = tfidf_embedding_for_rated_items.mean(axis=0)    \n",
    "    mean_centered_tfidf_matrix = tfidf_embedding_for_rated_items #- means[np.newaxis, :]\n",
    "    \n",
    "    rating_values_for_items = ratings_given_by_user.overall.to_numpy()\n",
    "    user_profile = np.mean(mean_centered_tfidf_matrix * rating_values_for_items[:, np.newaxis], axis=0)\n",
    "    user_profiles[user] = user_profile\n",
    "    unrated_user_items[user] = (set(df_train.asin.tolist()) | set(df_test.asin.tolist())).difference(set(items_rated_by_user.tolist()))\n",
    "    \n",
    "    "
   ]
  },
  {
   "cell_type": "code",
   "execution_count": 126,
   "id": "7d7f2457",
   "metadata": {},
   "outputs": [],
   "source": [
    "per_user_recommendation_predictions = {}\n",
    "for user in user_profiles.keys():\n",
    "    user_profile, unrated_items = user_profiles[user], unrated_user_items[user]\n",
    "    unrated_items_tfidf_id = [map_asin_id[item] for item in unrated_items]\n",
    "    result = cosine_similarity(user_profile.reshape(1,-1), X_tfidf[unrated_items_tfidf_id])\n",
    "    per_user_recommendation_predictions[user] = sorted(list(zip(unrated_items,result[0])), key=lambda x: x[1], reverse=True)\n",
    "    "
   ]
  },
  {
   "cell_type": "code",
   "execution_count": 127,
   "id": "ae34ce47",
   "metadata": {},
   "outputs": [
    {
     "name": "stdout",
     "output_type": "stream",
     "text": [
      "Top-5 recommended items for user 'A39WWMBA0299ZF':\n",
      "[('B019FWRG3C', 0.41890779509762005),\n",
      " ('B00W259T7G', 0.1904341366115),\n",
      " ('B00IJHY54S', 0.0877187842318),\n",
      " ('B0006O10P4', 0.08135119741224563),\n",
      " ('B00006L9LC', 0.07867821553522243)]\n"
     ]
    }
   ],
   "source": [
    "K = 5\n",
    "user_id = 'A39WWMBA0299ZF' \n",
    "topk = get_top_k_user_i(per_user_recommendation_predictions, user_id, K) #fill this\n",
    "print(f\"Top-{K} recommended items for user '{user_id}':\")\n",
    "pprint(topk)"
   ]
  },
  {
   "cell_type": "markdown",
   "id": "599f2bbe",
   "metadata": {},
   "source": [
    "# Exercise 2\n",
    "\n"
   ]
  },
  {
   "cell_type": "markdown",
   "id": "1a7805a3",
   "metadata": {},
   "source": [
    "In this exercise, you will evaluate the content-based recommender system in Exercise 1.\n",
    "\n",
    "Compute the hit rate for the content-based recommender system from Exercise 1. Evaluate the hit rate based on the top-5, top-10 and top-20 recommendations, averaged over the total number of users. Round your final answer to 3 decimal places. Remember that, as we are evaluating the system, you should compute the hit rate over the **test set**. How well/bad does this content-based approach perform compared to the collaborative filtering approaches?"
   ]
  },
  {
   "cell_type": "code",
   "execution_count": 128,
   "id": "c7455795",
   "metadata": {},
   "outputs": [],
   "source": [
    "def calculate_hit_rate(recommendations_per_user, df_test, k):\n",
    "    accum_hits = 0\n",
    "    for user, recommendations in recommendations_per_user.items():\n",
    "        for i in range(min(len(recommendations),k)):\n",
    "            item_name = recommendations[i][0]\n",
    "            test_rating = df_test[(df_test.asin==item_name) & (df_test.reviewerID == user) & (df_test.overall >= 3)]\n",
    "            if test_rating.shape[0] > 0:\n",
    "                accum_hits += 1\n",
    "                break\n",
    "    \n",
    "    return accum_hits/len(recommendations_per_user.keys())"
   ]
  },
  {
   "cell_type": "code",
   "execution_count": 129,
   "id": "e7d53a7e",
   "metadata": {},
   "outputs": [],
   "source": [
    "hit5 = calculate_hit_rate(per_user_recommendation_predictions, df_test, 5)\n",
    "hit10 = calculate_hit_rate(per_user_recommendation_predictions, df_test, 10)\n",
    "hit20 = calculate_hit_rate(per_user_recommendation_predictions, df_test, 20)"
   ]
  },
  {
   "cell_type": "code",
   "execution_count": 130,
   "id": "37a98df0",
   "metadata": {},
   "outputs": [
    {
     "name": "stdout",
     "output_type": "stream",
     "text": [
      "Hit@5: 0.4057084607543323\n",
      "Hit@10: 0.4332313965341488\n",
      "Hit@20: 0.49337410805300713\n"
     ]
    }
   ],
   "source": [
    "print(f\"Hit@5: {hit5}\")\n",
    "print(f\"Hit@10: {hit10}\")\n",
    "print(f\"Hit@20: {hit20}\")"
   ]
  },
  {
   "cell_type": "markdown",
   "id": "b1d74d43",
   "metadata": {},
   "source": [
    "# Exercise 3\n",
    "\n",
    "In this exercise, you will create a content-based recommender system based on word2vec embeddings and evaluate its performance with hit rate.\n",
    "\n",
    "Repeat Exercise 1 and 2, this time representing the items and users in a word2vec vector space. You may use the gensim library and download the 300-dimension embeddings from Google. Source: https://radimrehurek.com/gensim/models/word2vec.html#pretrained-models\n",
    "\n",
    "Remember to follow the same preprocessing pipeline as instructed in Lab W9, skipping the stemming step. Think on why we should not perform stemming when working with word2vec embeddings."
   ]
  },
  {
   "cell_type": "code",
   "execution_count": null,
   "id": "15528c37",
   "metadata": {},
   "outputs": [],
   "source": [
    "#uncomment and run the following line to install gensim\n",
    "#!pip install gensim"
   ]
  },
  {
   "cell_type": "code",
   "execution_count": 63,
   "id": "ca33a843",
   "metadata": {},
   "outputs": [],
   "source": [
    "import gensim.downloader\n",
    "word2vec_vectors = gensim.downloader.load('word2vec-google-news-300')\n",
    "\n",
    "meta_file = 'meta_All_Beauty.json'\n",
    "\n",
    "import os\n",
    "import sys\n",
    "sys.path.append('../')\n",
    "import pickle\n",
    "import pandas as pd\n",
    "\n",
    "# Load the metadata (items)\n",
    "item_metadata = pd.read_json(\"meta_All_Beauty.json\", lines=True)\n",
    "all_rated_items_set = set(df_train.asin.tolist() + df_test.asin.tolist())\n",
    "\n",
    "# Discard items that weren't rated by our subset of users\n",
    "filtered_item_metadata = item_metadata[item_metadata.asin.isin(all_rated_items_set)].drop_duplicates(['asin', 'title'])\n",
    "item_titles = list(filtered_item_metadata[[\"asin\", \"title\"]].itertuples(index=False, name=None))\n",
    "\n",
    "# YOUR CODE FROM WEEK 09 HERE\n"
   ]
  },
  {
   "cell_type": "code",
   "execution_count": 104,
   "id": "8d35105e",
   "metadata": {},
   "outputs": [
    {
     "data": {
      "text/plain": [
       "[('B0000530HU', 'Aqua Velva After Shave, Classic Ice Blue, 7 Ounce'),\n",
       " ('B00006L9LC', 'Citre Shine Moisture Burst Shampoo - 16 fl oz'),\n",
       " ('B00021DJ32', 'NARS Blush, Taj Mahal'),\n",
       " ('B0002JHI1I',\n",
       "  'Avalon Organics Wrinkle Therapy CoQ10 Cleansing Milk, 8.50 oz'),\n",
       " ('B0006O10P4', 'ZUM Zum Bar Anise Lavender, 3 Ounce'),\n",
       " ('B0009RF9DW',\n",
       "  'Yardley By Yardley Of London Unisexs Lay It On Thick Hand &amp; Foot Cream 5.3 Oz'),\n",
       " ('B000FI4S1E',\n",
       "  'Fruits &amp; Passion Blue Refreshing Shower Gel - 6.7 fl. oz.'),\n",
       " ('B000FOI48G', 'Waterpik Ultra Water Flosser'),\n",
       " ('B000FTYALG', 'Aqua Velva After Shave, Classic Ice Blue, 3.5 Ounce'),\n",
       " ('B000GLRREU', 'Waterpik Ultra Water Flosser'),\n",
       " ('B000LIBUBY', 'Fresh Eau de Parfum, Sugar Lemon, 3.4 oz'),\n",
       " ('B000NKJIXM',\n",
       "  'Crest Pro-health Multi-Protection Rinse, Cool Wintergreen, 33.8 Fluid Ounce'),\n",
       " ('B000PKKAGO', \"Philips Norelco arcitec 1090 Men's Shaving System\"),\n",
       " ('B000URXP6E', 'Bonne Bell Smackers Bath and Body Starburst Collection'),\n",
       " ('B000V5Z4J6', 'Philips Sonicare UV Sanitizer'),\n",
       " ('B000VUXCGI', \"Maggie's Functional Organics Raspberry Navy Forest 9-11\"),\n",
       " ('B000VV1YOY', 'essie nail polish, cuticle care, primers and finishers'),\n",
       " ('B000W0C07Y',\n",
       "  'Sex In The City Kiss by Instyle Parfums Eau De Parfum Spray 3.4 oz'),\n",
       " ('B000WR2HB6', 'WiseWays Herbals Witch Hazel Salve 1 oz.'),\n",
       " ('B000WYJTZG',\n",
       "  'Helen of Troy 1579 Tangle Free Hot Air Brush, White, 3/4 Inch Barrel'),\n",
       " ('B000X2FPXC', 'Dr. Woods Pure Almond Liquid Castile Soap, 32 Ounce'),\n",
       " ('B000X7ST9Y', 'AMERICAN CREW by American Crew: CLASSIC BODY WASH 15.2 OZ'),\n",
       " ('B000YB70PS',\n",
       "  'Kent The Handmade Comb - Fine and Coarse Toothed Pocket Comb Sawcut R7T, 130 mm'),\n",
       " ('B0010ZBORW',\n",
       "  'Urban Spa Moisturizing Booties to Keep your Feet Smooth, Hydrated and Moisturized'),\n",
       " ('B00112DRHY', 'PLANTLIFE Sandalwood Soap Bar, 4 Ounce'),\n",
       " ('B0011FYB5I', 'AGELESS: UltraMAX Gold Capsules, 90 count'),\n",
       " ('B00120VWTK', 'Avalon Organics Vitamin C Renewal Creme, 2 oz'),\n",
       " ('B00126LYJM', 'Maui Rain Hawaiian Perfume'),\n",
       " ('B0012XPRO8',\n",
       "  'Whish Coconut Shaving Cream - Smooth, All Natural Shave Cream for Men &amp; Women, Leaves Skin so Soft, Shea Butter and Coconut Oil, Natural and Organic Skin Care - 5 oz. pump'),\n",
       " ('B0012Y0ZG2',\n",
       "  'Bath &amp; Body Works Ile De Tahiti Moana Coconut Vanille Moana Body Wash with Tamanoi 8.5 oz'),\n",
       " ('B0013NB7DW', 'Williams Lectric Shave, 7 Ounce'),\n",
       " ('B0014SQQ3M', 'FusionBeauty LiftFusion Face Lift'),\n",
       " ('B00155Z6V2', 'Organic Fiji  Raw Organic Coconut Oil, 13-Ounce Jars'),\n",
       " ('B00157OBRU', 'Nag Champa Super Hit Cones, 144 Cones Box'),\n",
       " ('B0017TZD7S', 'AXE Shower Tool, Detailer 1 ea, Pack of 4'),\n",
       " ('B001E5PLCM', 'Clubman Lustray Blue Spice After Shave, 128 Fluid Ounce'),\n",
       " ('B001E96LUO',\n",
       "  'Clean &amp; Clear Deep Action Cream Facial Cleanser for Sensitive Skin, Gentle Daily Face Wash with Oil-Free, 6.5 oz (Pack of 4)'),\n",
       " ('B001ET7FZE',\n",
       "  ' Colgate Fluoride Toothpaste Strawberry Smash Liquid Gel 4.60 oz (Pack of 6) '),\n",
       " ('B001F51RAG',\n",
       "  'Oral-B Glide Pro-Health Dental Floss, Original Floss, 50m, Pack of 6'),\n",
       " ('B001LNODUS',\n",
       "  'Pre de Provence Maison French Dried Lavender Blossoms for Fragrance'),\n",
       " ('B001OHV1H4', 'Avalon Grapefruit and Geranium Smoothing Shampoo, 11 Ounce'),\n",
       " ('B001QY8QXM',\n",
       "  'Astra Platinum Double Edge Safety Razor Blades ,100 Blades (20 x 5)'),\n",
       " ('B002GP80EU', 'Urban Spa Natural Bamboo and Jute Bath Mitt'),\n",
       " ('B002RZZXYE',\n",
       "  'Kate Somerville&nbsp;ExfoliKate Intensive&nbsp;Exfoliating Treatment&nbsp;(5 Fl. Oz. Luxury Size)'),\n",
       " ('B004CALFE4', 'BVLGARI WHITE by Bvlgari for Men and Women: SHAMPOO 6.8 OZ'),\n",
       " ('B004KEJ65C',\n",
       "  'Folicure Shampoo Extra Body 12 oz. (3-Pack) with Free Nail File'),\n",
       " ('B006IB5T4W',\n",
       "  'Aquaphor Healing Ointment,Advanced Therapy Skin Protectant 14 Ounce ( Pack May Vary )'),\n",
       " ('B006WYJM8Y', 'NARS Blush, Gaiety'),\n",
       " ('B007R6UXNY',\n",
       "  'Dark and Lovely Beautiful Beginnings Shampoo, 10 Fluid Ounce'),\n",
       " ('B007V6JNE0',\n",
       "  'Revitalash By Revitalash Revitalash Advanced Eyelash Conditioner-- 3.5 Ml / .118 Oz'),\n",
       " ('B008YQM4A6', 'Colgate Enamel Health Mouthwash'),\n",
       " ('B0091OCA86',\n",
       "  'Andalou Naturals Clementine + C Illuminating Toner, 6 Fl oz, Facial Toner Helps Hydrate &amp; Balance Skin pH, For Clear, Bright Skin'),\n",
       " ('B00AKP21KM',\n",
       "  'Hammam El Hana Argan Therapy Egyptian White Musk Body Lotion 13.5 Fl.Oz. From Turkey'),\n",
       " ('B00B7V273E',\n",
       "  'Mad Hippie Face Cream with Anti Wrinkle Peptide Complex 1.0 ounces'),\n",
       " ('B00B9V9ASM',\n",
       "  'Pantene Pro-V Ultimate 10 2-In-1 Shampoo And Conditioner 25.4 Fl Oz (packaging may vary)'),\n",
       " ('B00BSE3III', 'Jhirmack Silver Plus Shampoo Ageless 13.6 oz. (Pack of 6)'),\n",
       " ('B00CQ0LN80', \"Victoria's Secret Dream Angels HEAVENLY Angel Wash 7.6 oz\"),\n",
       " ('B00CZH3K1C', 'Crest + Oral-B Professional Gingivitis Kit, 1 Count'),\n",
       " ('B00DY59MB6',\n",
       "  'Crest Pro-Health For Life CPC Antigingivitis/Antiplaque Smooth Mint Rinse 33.8 Fl Oz'),\n",
       " ('B00EF1QRMU', 'Toni&amp;Guy Glamour Volume Plumping Whip, 2.82 Fluid Ounce'),\n",
       " ('B00EYZY6LQ',\n",
       "  'Fekkai Full Blown Aerosol Foam Cond Us 6.6 Oz, 6.660-Fluid Ounce'),\n",
       " ('B00GHJOM2U', 'Home Health Evercln, Face Cream, 1.69 Fluid Ounce'),\n",
       " ('B00HLXEXDO', 'EO Shower Gel Grapefruit &amp; Mint 32 oz'),\n",
       " ('B00IJHY54S',\n",
       "  'Spongelle Wild Flower 14+ Uses Body Wash Buffer, French Lavender, 4.25&quot; x 1.25&quot;'),\n",
       " ('B00JF2GVWK', 'Caress Body Wash - Sheer Twilight - 18 oz - 2 pk'),\n",
       " ('B00L1I1VMG', 'Crest Sensi-Stop Strips, 10 Count'),\n",
       " ('B00MGK9Z8U',\n",
       "  'Rimmel Provocalips 16hr Kissproof Lipstick, Kiss Fatal, 0.14 Fluid Ounce'),\n",
       " ('B00MTR49IG',\n",
       "  'Peter Lamas Wheatgrass Purifying Shampoo and Conditioner Set, 12 Fluid Ounce Each'),\n",
       " ('B00N2WQ2IW',\n",
       "  'Pantene Pro-V Volume Conditioner 12.0 Fluid Ounce (Product Size May Vary)'),\n",
       " ('B00NT0AR7E',\n",
       "  'OZNaturals Anti Aging Retinol Serum -The Most Effective Anti Wrinkle Serum Contains Professional Strength Retinol+ Astaxanthin+ Vitamin E - Get The Dramatic Youthful Results You&rsquo;ve Been Looking For'),\n",
       " ('B00QXW95Q4',\n",
       "  'Theorie Argan Oil Ultimate Reform Shampoo &amp; Conditioner 27 Fl Oz Each'),\n",
       " ('B00RZYW4RG',\n",
       "  'Sexy Straight Smooth and Seal Hair Spray 8.1 Ounce (Pack of 3)'),\n",
       " ('B00UWB35UY', 'Lucia Flowers Print Brown Large Hair Clip Clamp'),\n",
       " ('B00VARTPKS',\n",
       "  '(Pack of 3) L.A. Colors Mineral Pressed Powder #Mp303 &quot;Creamy Natural&quot;'),\n",
       " ('B00VG1AV5Q', 'Naturelle Hypo-Allergenic Styling Gel'),\n",
       " ('B00W259T7G',\n",
       "  'Pre de Provence Artisanal French Soap Bar Enriched with Shea Butter, Quad-Milled For A Smooth &amp; Rich Lather (150 grams) - Raspberry'),\n",
       " ('B016V8YWBC',\n",
       "  'Dove Men+Care, Deep Clean Body + Face Bar, 4 Ounce, 6 Count, (Pack of 2)&hellip;'),\n",
       " ('B019809F9Y', 'Lectric Shave Pre-Shave Original 3 oz'),\n",
       " ('B019FWRG3C',\n",
       "  'Pre De Provence Maison French Lavender Bath &amp; Shower Gel'),\n",
       " ('B019LAI4HU', 'Ultimate Body Lotion By Michael Kors 3.4oz'),\n",
       " ('B019V2KYZS', 'Dolce &amp; Gabbana Compact Parfum, 0.05 Ounce'),\n",
       " ('B01BNEYGQU',\n",
       "  'Colgate Kids Maximum Cavity Protection Pump Toothpaste - 4.4 ounce (12 Pack)'),\n",
       " ('B01DKQAXC0',\n",
       "  'Bali Secrets Natural Deodorant - Organic &amp; Vegan - For Women &amp; Men - All Day Fresh - Strong &amp; Reliable Protection - 2.5 fl.oz/75ml [Scent: Sandalwood]'),\n",
       " ('B01E7UKR38', 'essie Gel Couture Nail Polish')]"
      ]
     },
     "execution_count": 104,
     "metadata": {},
     "output_type": "execute_result"
    }
   ],
   "source": [
    "item_titles"
   ]
  },
  {
   "cell_type": "code",
   "execution_count": 105,
   "id": "59ff0aba",
   "metadata": {},
   "outputs": [],
   "source": [
    "#!pip install nltk"
   ]
  },
  {
   "cell_type": "code",
   "execution_count": 106,
   "id": "d2b52535",
   "metadata": {},
   "outputs": [
    {
     "name": "stderr",
     "output_type": "stream",
     "text": [
      "[nltk_data] Downloading package punkt to\n",
      "[nltk_data]     /home/danielpenchev/nltk_data...\n",
      "[nltk_data]   Package punkt is already up-to-date!\n",
      "[nltk_data] Downloading package punkt_tab to\n",
      "[nltk_data]     /home/danielpenchev/nltk_data...\n",
      "[nltk_data]   Package punkt_tab is already up-to-date!\n",
      "[nltk_data] Downloading package stopwords to\n",
      "[nltk_data]     /home/danielpenchev/nltk_data...\n",
      "[nltk_data]   Package stopwords is already up-to-date!\n"
     ]
    }
   ],
   "source": [
    "import nltk\n",
    "nltk.download('punkt')\n",
    "nltk.download('punkt_tab')\n",
    "nltk.download('stopwords')\n",
    "\n",
    "from nltk.corpus import stopwords\n",
    "from nltk.stem import PorterStemmer\n",
    "from nltk.tokenize import word_tokenize\n",
    "from nltk.tokenize.treebank import TreebankWordDetokenizer\n",
    "import string\n"
   ]
  },
  {
   "cell_type": "code",
   "execution_count": 107,
   "id": "779fbcb1",
   "metadata": {},
   "outputs": [],
   "source": [
    "def preprocessing(text):\n",
    "    lower_case_corpus = text.lower()\n",
    "    tokenized_corpus = word_tokenize(lower_case_corpus)\n",
    "    stops_words_english = set(stopwords.words('english')) | set(string.punctuation)\n",
    "    return \" \".join([token for token in tokenized_corpus if token not in stops_words_english])\n",
    "\n",
    "processed_titles = [(item, preprocessing(title)) for item, title in item_titles]\n"
   ]
  },
  {
   "cell_type": "code",
   "execution_count": 108,
   "id": "059e2801",
   "metadata": {},
   "outputs": [
    {
     "data": {
      "text/plain": [
       "[('B0000530HU', 'aqua velva shave classic ice blue 7 ounce'),\n",
       " ('B00006L9LC', 'citre shine moisture burst shampoo 16 fl oz'),\n",
       " ('B00021DJ32', 'nars blush taj mahal'),\n",
       " ('B0002JHI1I',\n",
       "  'avalon organics wrinkle therapy coq10 cleansing milk 8.50 oz'),\n",
       " ('B0006O10P4', 'zum zum bar anise lavender 3 ounce'),\n",
       " ('B0009RF9DW',\n",
       "  'yardley yardley london unisexs lay thick hand amp foot cream 5.3 oz'),\n",
       " ('B000FI4S1E', 'fruits amp passion blue refreshing shower gel 6.7 fl oz'),\n",
       " ('B000FOI48G', 'waterpik ultra water flosser'),\n",
       " ('B000FTYALG', 'aqua velva shave classic ice blue 3.5 ounce'),\n",
       " ('B000GLRREU', 'waterpik ultra water flosser'),\n",
       " ('B000LIBUBY', 'fresh eau de parfum sugar lemon 3.4 oz'),\n",
       " ('B000NKJIXM',\n",
       "  'crest pro-health multi-protection rinse cool wintergreen 33.8 fluid ounce'),\n",
       " ('B000PKKAGO', \"philips norelco arcitec 1090 men 's shaving system\"),\n",
       " ('B000URXP6E', 'bonne bell smackers bath body starburst collection'),\n",
       " ('B000V5Z4J6', 'philips sonicare uv sanitizer'),\n",
       " ('B000VUXCGI', \"maggie 's functional organics raspberry navy forest 9-11\"),\n",
       " ('B000VV1YOY', 'essie nail polish cuticle care primers finishers'),\n",
       " ('B000W0C07Y', 'sex city kiss instyle parfums eau de parfum spray 3.4 oz'),\n",
       " ('B000WR2HB6', 'wiseways herbals witch hazel salve 1 oz'),\n",
       " ('B000WYJTZG',\n",
       "  'helen troy 1579 tangle free hot air brush white 3/4 inch barrel'),\n",
       " ('B000X2FPXC', 'dr. woods pure almond liquid castile soap 32 ounce'),\n",
       " ('B000X7ST9Y', 'american crew american crew classic body wash 15.2 oz'),\n",
       " ('B000YB70PS',\n",
       "  'kent handmade comb fine coarse toothed pocket comb sawcut r7t 130 mm'),\n",
       " ('B0010ZBORW',\n",
       "  'urban spa moisturizing booties keep feet smooth hydrated moisturized'),\n",
       " ('B00112DRHY', 'plantlife sandalwood soap bar 4 ounce'),\n",
       " ('B0011FYB5I', 'ageless ultramax gold capsules 90 count'),\n",
       " ('B00120VWTK', 'avalon organics vitamin c renewal creme 2 oz'),\n",
       " ('B00126LYJM', 'maui rain hawaiian perfume'),\n",
       " ('B0012XPRO8',\n",
       "  'whish coconut shaving cream smooth natural shave cream men amp women leaves skin soft shea butter coconut oil natural organic skin care 5 oz pump'),\n",
       " ('B0012Y0ZG2',\n",
       "  'bath amp body works ile de tahiti moana coconut vanille moana body wash tamanoi 8.5 oz'),\n",
       " ('B0013NB7DW', 'williams lectric shave 7 ounce'),\n",
       " ('B0014SQQ3M', 'fusionbeauty liftfusion face lift'),\n",
       " ('B00155Z6V2', 'organic fiji raw organic coconut oil 13-ounce jars'),\n",
       " ('B00157OBRU', 'nag champa super hit cones 144 cones box'),\n",
       " ('B0017TZD7S', 'axe shower tool detailer 1 ea pack 4'),\n",
       " ('B001E5PLCM', 'clubman lustray blue spice shave 128 fluid ounce'),\n",
       " ('B001E96LUO',\n",
       "  'clean amp clear deep action cream facial cleanser sensitive skin gentle daily face wash oil-free 6.5 oz pack 4'),\n",
       " ('B001ET7FZE',\n",
       "  'colgate fluoride toothpaste strawberry smash liquid gel 4.60 oz pack 6'),\n",
       " ('B001F51RAG',\n",
       "  'oral-b glide pro-health dental floss original floss 50m pack 6'),\n",
       " ('B001LNODUS',\n",
       "  'pre de provence maison french dried lavender blossoms fragrance'),\n",
       " ('B001OHV1H4', 'avalon grapefruit geranium smoothing shampoo 11 ounce'),\n",
       " ('B001QY8QXM',\n",
       "  'astra platinum double edge safety razor blades ,100 blades 20 x 5'),\n",
       " ('B002GP80EU', 'urban spa natural bamboo jute bath mitt'),\n",
       " ('B002RZZXYE',\n",
       "  'kate somerville nbsp exfolikate intensive nbsp exfoliating treatment nbsp 5 fl oz luxury size'),\n",
       " ('B004CALFE4', 'bvlgari white bvlgari men women shampoo 6.8 oz'),\n",
       " ('B004KEJ65C', 'folicure shampoo extra body 12 oz 3-pack free nail file'),\n",
       " ('B006IB5T4W',\n",
       "  'aquaphor healing ointment advanced therapy skin protectant 14 ounce pack may vary'),\n",
       " ('B006WYJM8Y', 'nars blush gaiety'),\n",
       " ('B007R6UXNY', 'dark lovely beautiful beginnings shampoo 10 fluid ounce'),\n",
       " ('B007V6JNE0',\n",
       "  'revitalash revitalash revitalash advanced eyelash conditioner -- 3.5 ml .118 oz'),\n",
       " ('B008YQM4A6', 'colgate enamel health mouthwash'),\n",
       " ('B0091OCA86',\n",
       "  'andalou naturals clementine c illuminating toner 6 fl oz facial toner helps hydrate amp balance skin ph clear bright skin'),\n",
       " ('B00AKP21KM',\n",
       "  'hammam el hana argan therapy egyptian white musk body lotion 13.5 fl.oz turkey'),\n",
       " ('B00B7V273E',\n",
       "  'mad hippie face cream anti wrinkle peptide complex 1.0 ounces'),\n",
       " ('B00B9V9ASM',\n",
       "  'pantene pro-v ultimate 10 2-in-1 shampoo conditioner 25.4 fl oz packaging may vary'),\n",
       " ('B00BSE3III', 'jhirmack silver plus shampoo ageless 13.6 oz pack 6'),\n",
       " ('B00CQ0LN80', \"victoria 's secret dream angels heavenly angel wash 7.6 oz\"),\n",
       " ('B00CZH3K1C', 'crest oral-b professional gingivitis kit 1 count'),\n",
       " ('B00DY59MB6',\n",
       "  'crest pro-health life cpc antigingivitis/antiplaque smooth mint rinse 33.8 fl oz'),\n",
       " ('B00EF1QRMU', 'toni amp guy glamour volume plumping whip 2.82 fluid ounce'),\n",
       " ('B00EYZY6LQ',\n",
       "  'fekkai full blown aerosol foam cond us 6.6 oz 6.660-fluid ounce'),\n",
       " ('B00GHJOM2U', 'home health evercln face cream 1.69 fluid ounce'),\n",
       " ('B00HLXEXDO', 'eo shower gel grapefruit amp mint 32 oz'),\n",
       " ('B00IJHY54S',\n",
       "  'spongelle wild flower 14+ uses body wash buffer french lavender 4.25 quot x 1.25 quot'),\n",
       " ('B00JF2GVWK', 'caress body wash sheer twilight 18 oz 2 pk'),\n",
       " ('B00L1I1VMG', 'crest sensi-stop strips 10 count'),\n",
       " ('B00MGK9Z8U',\n",
       "  'rimmel provocalips 16hr kissproof lipstick kiss fatal 0.14 fluid ounce'),\n",
       " ('B00MTR49IG',\n",
       "  'peter lamas wheatgrass purifying shampoo conditioner set 12 fluid ounce'),\n",
       " ('B00N2WQ2IW',\n",
       "  'pantene pro-v volume conditioner 12.0 fluid ounce product size may vary'),\n",
       " ('B00NT0AR7E',\n",
       "  'oznaturals anti aging retinol serum -the effective anti wrinkle serum contains professional strength retinol+ astaxanthin+ vitamin e get dramatic youthful results rsquo looking'),\n",
       " ('B00QXW95Q4',\n",
       "  'theorie argan oil ultimate reform shampoo amp conditioner 27 fl oz'),\n",
       " ('B00RZYW4RG', 'sexy straight smooth seal hair spray 8.1 ounce pack 3'),\n",
       " ('B00UWB35UY', 'lucia flowers print brown large hair clip clamp'),\n",
       " ('B00VARTPKS',\n",
       "  'pack 3 l.a. colors mineral pressed powder mp303 quot creamy natural quot'),\n",
       " ('B00VG1AV5Q', 'naturelle hypo-allergenic styling gel'),\n",
       " ('B00W259T7G',\n",
       "  'pre de provence artisanal french soap bar enriched shea butter quad-milled smooth amp rich lather 150 grams raspberry'),\n",
       " ('B016V8YWBC',\n",
       "  'dove men+care deep clean body face bar 4 ounce 6 count pack 2 hellip'),\n",
       " ('B019809F9Y', 'lectric shave pre-shave original 3 oz'),\n",
       " ('B019FWRG3C', 'pre de provence maison french lavender bath amp shower gel'),\n",
       " ('B019LAI4HU', 'ultimate body lotion michael kors 3.4oz'),\n",
       " ('B019V2KYZS', 'dolce amp gabbana compact parfum 0.05 ounce'),\n",
       " ('B01BNEYGQU',\n",
       "  'colgate kids maximum cavity protection pump toothpaste 4.4 ounce 12 pack'),\n",
       " ('B01DKQAXC0',\n",
       "  'bali secrets natural deodorant organic amp vegan women amp men day fresh strong amp reliable protection 2.5 fl.oz/75ml scent sandalwood'),\n",
       " ('B01E7UKR38', 'essie gel couture nail polish')]"
      ]
     },
     "execution_count": 108,
     "metadata": {},
     "output_type": "execute_result"
    }
   ],
   "source": [
    "processed_titles"
   ]
  },
  {
   "cell_type": "code",
   "execution_count": 109,
   "id": "82d5c599",
   "metadata": {},
   "outputs": [],
   "source": [
    "# Represent items in the vector space by taking an average of the word embedding of the tokens in the item title\n",
    "# Tokens that are (out-of-vocabulary) OOV may be skipped\n",
    "\n",
    "title_to_embedding = {}\n",
    "for item, title in processed_titles:\n",
    "    in_vocab_words = 0\n",
    "    sentence_embedding = np.zeros((300,))\n",
    "    for word in title.split(\" \"):\n",
    "        if word not in word2vec_vectors.key_to_index:\n",
    "            continue\n",
    "        sentence_embedding += word2vec_vectors[word]\n",
    "        in_vocab_words+=1\n",
    "    \n",
    "    sentence_embedding /= max(in_vocab_words,1)\n",
    "    title_to_embedding[item] = sentence_embedding"
   ]
  },
  {
   "cell_type": "code",
   "execution_count": 110,
   "id": "bb2c43ad",
   "metadata": {},
   "outputs": [],
   "source": [
    "# Compute user profiles\n",
    "\n",
    "\n",
    "# calculating the user profile for each user\n",
    "list_of_users_in_train_set = df_train.reviewerID.unique().tolist()\n",
    "user_profiles = {}\n",
    "unrated_user_items = {}\n",
    "for user in list_of_users_in_train_set:\n",
    "    ratings_given_by_user = df_train[df_train.reviewerID==user]\n",
    "    items_rated_by_user = ratings_given_by_user.asin.to_numpy()\n",
    "\n",
    "    item_embeddings = np.array([title_to_embedding[item] for item in items_rated_by_user])\n",
    "\n",
    "    # center the tfidf features using per feature mean\n",
    "    #means = item_embeddings.mean(axis=0)    \n",
    "    mean_centered_item_embeddings= item_embeddings #- means[np.newaxis, :]\n",
    "    \n",
    "    rating_values_for_items = ratings_given_by_user.overall.to_numpy()\n",
    "    user_profile = np.mean(mean_centered_item_embeddings * rating_values_for_items[:, np.newaxis], axis=0)\n",
    "    user_profiles[user] = user_profile\n",
    "    unrated_user_items[user] = (set(df_train.asin.tolist()) | set(df_test.asin.tolist())).difference(set(items_rated_by_user.tolist()))\n",
    "    \n",
    "    "
   ]
  },
  {
   "cell_type": "code",
   "execution_count": 111,
   "id": "6bd0b42c",
   "metadata": {},
   "outputs": [],
   "source": [
    "per_user_recommendation_predictions = {}\n",
    "for user in user_profiles.keys():\n",
    "    user_profile, unrated_items = user_profiles[user], unrated_user_items[user]\n",
    "    unrated_items_embeddings = [title_to_embedding[item] for item in unrated_items]\n",
    "    result = cosine_similarity(user_profile.reshape(1,-1), unrated_items_embeddings)\n",
    "    per_user_recommendation_predictions[user] = sorted(list(zip(unrated_items,result[0])), key=lambda x: x[1], reverse=True)\n",
    "    "
   ]
  },
  {
   "cell_type": "code",
   "execution_count": 112,
   "id": "06322fb1",
   "metadata": {},
   "outputs": [
    {
     "name": "stdout",
     "output_type": "stream",
     "text": [
      "Top-5 recommended items for user 'A39WWMBA0299ZF':\n",
      "[('B000LIBUBY', 0.7818762363300937),\n",
      " ('B019FWRG3C', 0.7803233280348185),\n",
      " ('B000W0C07Y', 0.7674191081068749),\n",
      " ('B0012XPRO8', 0.7576563059459733),\n",
      " ('B00HLXEXDO', 0.7472139124796926)]\n"
     ]
    }
   ],
   "source": [
    "# NEW CODE HERE \n",
    "\n",
    "K = 5\n",
    "user_id = 'A39WWMBA0299ZF'\n",
    "topk = get_top_k_user_i(per_user_recommendation_predictions, user_id, K) #fill this\n",
    "print(f\"Top-{K} recommended items for user '{user_id}':\")\n",
    "pprint(topk)"
   ]
  },
  {
   "cell_type": "code",
   "execution_count": 115,
   "id": "033cc0c1",
   "metadata": {},
   "outputs": [
    {
     "name": "stdout",
     "output_type": "stream",
     "text": [
      "Hit Rate (top-5): 0.412\n",
      "Hit Rate (top-10): 0.427\n",
      "Hit Rate (top-20): 0.490\n"
     ]
    }
   ],
   "source": [
    "# Get top-K for all users in the test set \n",
    "\n",
    "top_5 = {}\n",
    "\n",
    "test_users = df_test.reviewerID.unique().tolist()\n",
    "\n",
    "for user_id in test_users:\n",
    "    top_5[user_id] = get_top_k_user_i(per_user_recommendation_predictions, user_id, 5)\n",
    "print(\"Hit Rate (top-5): {:.3f}\".format(calculate_hit_rate(top_5, df_test, 5)))\n",
    "top_10 = {}\n",
    "for user_id in test_users:\n",
    "    top_10[user_id] = get_top_k_user_i(per_user_recommendation_predictions, user_id, 10)\n",
    "print(\"Hit Rate (top-10): {:.3f}\".format(calculate_hit_rate(top_10, df_test, 10)))\n",
    "top_20 = {}\n",
    "for user_id in test_users:\n",
    "    top_20[user_id] = get_top_k_user_i(per_user_recommendation_predictions, user_id, 20)\n",
    "print(\"Hit Rate (top-20): {:.3f}\".format(calculate_hit_rate(top_20, df_test, 20)))"
   ]
  }
 ],
 "metadata": {
  "kernelspec": {
   "display_name": "recsys",
   "language": "python",
   "name": "python3"
  },
  "language_info": {
   "codemirror_mode": {
    "name": "ipython",
    "version": 3
   },
   "file_extension": ".py",
   "mimetype": "text/x-python",
   "name": "python",
   "nbconvert_exporter": "python",
   "pygments_lexer": "ipython3",
   "version": "3.10.16"
  }
 },
 "nbformat": 4,
 "nbformat_minor": 5
}
