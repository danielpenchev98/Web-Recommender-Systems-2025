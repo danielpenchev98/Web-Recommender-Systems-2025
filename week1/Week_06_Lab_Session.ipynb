{
 "cells": [
  {
   "cell_type": "markdown",
   "metadata": {
    "id": "7-duqmIoO56m"
   },
   "source": [
    "Nice read on \"How to set up Anaconda and Jupyter Notebook the right way\": https://towardsdatascience.com/how-to-set-up-anaconda-and-jupyter-notebook-the-right-way-de3b7623ea4a"
   ]
  },
  {
   "cell_type": "code",
   "execution_count": 1,
   "metadata": {
    "id": "3QG8ZRDCO56o"
   },
   "outputs": [],
   "source": [
    "import json\n",
    "import pandas as pd\n",
    "import gzip"
   ]
  },
  {
   "cell_type": "markdown",
   "metadata": {
    "id": "IMqQAXTvO56p"
   },
   "source": [
    "# Familiarize Yourself with the Dataset\n",
    "In the lab sessions, we will work with the \"All Beauty\" category of the Amazon Review Data, and we will use the 5-core subset. You can download the dataset and find information about it here: https://nijianmo.github.io/amazon/index.html"
   ]
  },
  {
   "cell_type": "markdown",
   "metadata": {
    "id": "QtYTXEuoO56p"
   },
   "source": [
    "## Exercise 1\n",
    "Download and import the 5-core dataset."
   ]
  },
  {
   "cell_type": "code",
   "execution_count": 2,
   "metadata": {
    "id": "UuSp_hp3O56q"
   },
   "outputs": [],
   "source": [
    "# def parse(path):\n",
    "#     g = gzip.open(path, 'rb')\n",
    "#     for l in g:\n",
    "#         yield json.loads(l)\n",
    "\n",
    "# def getDF(path):\n",
    "#     i = 0\n",
    "#     df = {}\n",
    "#     for d in parse(path):\n",
    "#         df[i] = d\n",
    "#         i += 1\n",
    "#     return pd.DataFrame.from_dict(df, orient='index')\n",
    "\n",
    "# df = getDF('All_Beauty_5.json')\n",
    "\n",
    "# If you unzip the folder manually, you may simply run the following command:\n",
    "df = pd.read_json(\"All_Beauty_5.json\", lines=True)"
   ]
  },
  {
   "cell_type": "markdown",
   "metadata": {
    "id": "iuekQx2jO56q"
   },
   "source": [
    "## Exercise 2\n",
    "\n",
    "### 2.1\n",
    "Sort the dataset entries (ascending) by user id (`reviewerID`), product id (`asin`) and rating timestamp (`unixReviewTime`). Then, check the dataset for missing ratings (`overall`) and duplicates (cases where the same user has rated the same item multiple times) and clean them, if any. For duplicates, keep the last entry only. How many observations does the cleaned dataset have?"
   ]
  },
  {
   "cell_type": "code",
   "execution_count": 3,
   "metadata": {
    "colab": {
     "base_uri": "https://localhost:8080/"
    },
    "id": "tTdK3eAzO56q",
    "outputId": "f4fcb442-7c11-4efe-a97c-28a985916a97"
   },
   "outputs": [
    {
     "name": "stdout",
     "output_type": "stream",
     "text": [
      "<class 'pandas.core.frame.DataFrame'>\n",
      "RangeIndex: 5269 entries, 0 to 5268\n",
      "Data columns (total 12 columns):\n",
      " #   Column          Non-Null Count  Dtype \n",
      "---  ------          --------------  ----- \n",
      " 0   overall         5269 non-null   int64 \n",
      " 1   verified        5269 non-null   bool  \n",
      " 2   reviewTime      5269 non-null   object\n",
      " 3   reviewerID      5269 non-null   object\n",
      " 4   asin            5269 non-null   object\n",
      " 5   style           4624 non-null   object\n",
      " 6   reviewerName    5269 non-null   object\n",
      " 7   reviewText      5264 non-null   object\n",
      " 8   summary         5264 non-null   object\n",
      " 9   unixReviewTime  5269 non-null   int64 \n",
      " 10  vote            552 non-null    object\n",
      " 11  image           98 non-null     object\n",
      "dtypes: bool(1), int64(2), object(9)\n",
      "memory usage: 458.1+ KB\n"
     ]
    }
   ],
   "source": [
    "df.info()"
   ]
  },
  {
   "cell_type": "code",
   "execution_count": 4,
   "metadata": {
    "colab": {
     "base_uri": "https://localhost:8080/"
    },
    "id": "L8egdER_O56r",
    "outputId": "934665a3-04fd-4b93-e8e3-09997efe589a"
   },
   "outputs": [
    {
     "data": {
      "text/plain": [
       "0"
      ]
     },
     "execution_count": 4,
     "metadata": {},
     "output_type": "execute_result"
    }
   ],
   "source": [
    "# the number of samples that have non-defined value for the overall property\n",
    "df.overall.isna().sum()"
   ]
  },
  {
   "cell_type": "code",
   "execution_count": 5,
   "metadata": {
    "id": "K-oeMPpTO56r"
   },
   "outputs": [],
   "source": [
    "def data_cleaning(df):\n",
    "    df_cleaned = df.sort_values([\"reviewerID\", \"asin\", \"unixReviewTime\"],ascending=[True,True, True])\n",
    "    df_cleaned = df_cleaned[df_cleaned.overall.notna()]\n",
    "    df_cleaned = df_cleaned.drop_duplicates(keep=\"last\", subset=[\"reviewerID\", \"asin\"])\n",
    "    return df_cleaned\n",
    "\n",
    "df = data_cleaning(df)"
   ]
  },
  {
   "cell_type": "code",
   "execution_count": 6,
   "metadata": {
    "colab": {
     "base_uri": "https://localhost:8080/"
    },
    "id": "rw13gF0vO56r",
    "outputId": "67779310-08b1-48ea-d134-785e1b03c6f9"
   },
   "outputs": [
    {
     "name": "stdout",
     "output_type": "stream",
     "text": [
      "<class 'pandas.core.frame.DataFrame'>\n",
      "Index: 4092 entries, 737 to 3848\n",
      "Data columns (total 12 columns):\n",
      " #   Column          Non-Null Count  Dtype \n",
      "---  ------          --------------  ----- \n",
      " 0   overall         4092 non-null   int64 \n",
      " 1   verified        4092 non-null   bool  \n",
      " 2   reviewTime      4092 non-null   object\n",
      " 3   reviewerID      4092 non-null   object\n",
      " 4   asin            4092 non-null   object\n",
      " 5   style           3483 non-null   object\n",
      " 6   reviewerName    4092 non-null   object\n",
      " 7   reviewText      4088 non-null   object\n",
      " 8   summary         4088 non-null   object\n",
      " 9   unixReviewTime  4092 non-null   int64 \n",
      " 10  vote            408 non-null    object\n",
      " 11  image           74 non-null     object\n",
      "dtypes: bool(1), int64(2), object(9)\n",
      "memory usage: 387.6+ KB\n"
     ]
    }
   ],
   "source": [
    "df.info()"
   ]
  },
  {
   "cell_type": "markdown",
   "metadata": {
    "id": "TehuEzqmO56r"
   },
   "source": [
    "### 2.2\n",
    "Create a test set by extracting the *single* **latest** (based on the timestamp `unixReviewTime`) positively rated item (rating $\\geq 4$) by each user. Remove users that do not appear in the training set. How many observations does the training and test set have?\n",
    "\n",
    "Note: After the test set is extracted, the *cleaned* dataset is now the trainset. (i.e., the trainset is completely separate from the test set, not a superset of it)"
   ]
  },
  {
   "cell_type": "code",
   "execution_count": 7,
   "metadata": {
    "id": "yZouCeRvO56r"
   },
   "outputs": [],
   "source": [
    "def data_split(df):\n",
    "    df_positive = df[df['overall']>=4]\n",
    "\n",
    "    # For each user get his latest review\n",
    "    test = df_positive \\\n",
    "        .sort_values([\"reviewerID\",\"unixReviewTime\"],ascending=[True,True]) \\\n",
    "        .drop_duplicates(keep=\"last\", subset=[\"reviewerID\"])\n",
    "\n",
    "    test_sample_indeces = test.index.to_list()\n",
    "\n",
    "    # drop all rows that are in the test set\n",
    "    training = df.drop(test_sample_indeces)\n",
    "\n",
    "    # drop all users that aren't in the training set\n",
    "    test = test[test.reviewerID.isin(training.reviewerID.to_list())]\n",
    "\n",
    "    return training, test"
   ]
  },
  {
   "cell_type": "code",
   "execution_count": 8,
   "metadata": {
    "colab": {
     "base_uri": "https://localhost:8080/"
    },
    "id": "OZMBWWhhO56s",
    "outputId": "4025e186-97b8-4fda-cf2f-821c2882acd0"
   },
   "outputs": [
    {
     "name": "stdout",
     "output_type": "stream",
     "text": [
      "Observations in training set: 3133\n",
      "Observations in test set: 949\n"
     ]
    }
   ],
   "source": [
    "df_train, df_test = data_split(df)\n",
    "\n",
    "print(\"Observations in training set:\", len(df_train))\n",
    "print(\"Observations in test set:\", len(df_test))"
   ]
  },
  {
   "cell_type": "markdown",
   "metadata": {
    "id": "hbppWe8nO56s"
   },
   "source": [
    "## Exercise 3\n",
    "\n",
    "Compute the number of ratings per item in the training set. How does a barplot of the number of ratings per item ordered by decreasing frequency look like?\n",
    "\n",
    "Reflect on how it will affect the prediction process of a recommender system if only a small fraction of the items are rated frequently."
   ]
  },
  {
   "cell_type": "code",
   "execution_count": 9,
   "metadata": {
    "id": "s8cAMUjiO56s"
   },
   "outputs": [],
   "source": [
    "df_per_item_review_count = df_train.groupby(\"asin\", as_index=False).size()"
   ]
  },
  {
   "cell_type": "code",
   "execution_count": 10,
   "metadata": {
    "colab": {
     "base_uri": "https://localhost:8080/",
     "height": 1000
    },
    "id": "oxpfOvvjO56s",
    "outputId": "ced092af-f15d-464c-96ca-5fbb0ca19ebc"
   },
   "outputs": [
    {
     "data": {
      "text/plain": [
       "0       4\n",
       "1     489\n",
       "2       3\n",
       "3       1\n",
       "4       2\n",
       "5     386\n",
       "6     386\n",
       "7      15\n",
       "8       2\n",
       "9      11\n",
       "10      3\n",
       "11     15\n",
       "12      4\n",
       "13    849\n",
       "14      4\n",
       "15      4\n",
       "16      1\n",
       "17      1\n",
       "18      1\n",
       "19      1\n",
       "20      1\n",
       "21     26\n",
       "22      1\n",
       "23      1\n",
       "24      1\n",
       "25      1\n",
       "26    530\n",
       "27     16\n",
       "28      1\n",
       "29      4\n",
       "30      6\n",
       "31     13\n",
       "32      3\n",
       "33     33\n",
       "34    131\n",
       "35      1\n",
       "36      7\n",
       "37      2\n",
       "38      2\n",
       "39      1\n",
       "40      2\n",
       "41      5\n",
       "42      1\n",
       "43      5\n",
       "44     14\n",
       "45      6\n",
       "46     13\n",
       "47      1\n",
       "48     11\n",
       "49      9\n",
       "50      2\n",
       "51      1\n",
       "52     35\n",
       "53      8\n",
       "54     11\n",
       "55     23\n",
       "56      1\n",
       "57     11\n",
       "58     11\n",
       "Name: size, dtype: int64"
      ]
     },
     "execution_count": 10,
     "metadata": {},
     "output_type": "execute_result"
    }
   ],
   "source": [
    "df_per_item_review_count[\"size\"]"
   ]
  },
  {
   "cell_type": "code",
   "execution_count": 11,
   "metadata": {
    "colab": {
     "base_uri": "https://localhost:8080/"
    },
    "id": "ikMECd-IO56s",
    "outputId": "fb4d1c93-1e3f-49de-9812-e7020aeb1f38"
   },
   "outputs": [
    {
     "data": {
      "text/plain": [
       "118"
      ]
     },
     "execution_count": 11,
     "metadata": {},
     "output_type": "execute_result"
    }
   ],
   "source": [
    "df_per_item_review_count.size"
   ]
  },
  {
   "cell_type": "code",
   "execution_count": 12,
   "metadata": {
    "colab": {
     "base_uri": "https://localhost:8080/"
    },
    "id": "9VRa_N7kO56t",
    "outputId": "521fa528-5226-468a-ac9e-bb6a8392fe4c"
   },
   "outputs": [
    {
     "data": {
      "text/plain": [
       "(59,)"
      ]
     },
     "execution_count": 12,
     "metadata": {},
     "output_type": "execute_result"
    }
   ],
   "source": [
    "df_per_item_review_count.iloc[:,1].shape"
   ]
  },
  {
   "cell_type": "code",
   "execution_count": 13,
   "metadata": {
    "colab": {
     "base_uri": "https://localhost:8080/",
     "height": 449
    },
    "id": "CgQcVweYO56t",
    "outputId": "7188f327-a853-45d6-cfb9-72ac95aa9080"
   },
   "outputs": [
    {
     "data": {
      "image/png": "[encoded data removed]",
      "text/plain": [
       "<Figure size 640x480 with 1 Axes>"
      ]
     },
     "metadata": {},
     "output_type": "display_data"
    }
   ],
   "source": [
    "import matplotlib.pyplot as plt\n",
    "\n",
    "df_per_item_review_count = df_train.groupby(\"asin\", as_index=False).size().sort_values([\"size\"], ascending=[False])\n",
    "plt.bar(x=range(df_per_item_review_count.shape[0]), height=df_per_item_review_count.iloc[:,1])\n",
    "plt.xlabel(\"itemID\")\n",
    "plt.ylabel(\"review count\")\n",
    "plt.show()"
   ]
  },
  {
   "cell_type": "markdown",
   "metadata": {
    "id": "DI_q8SSiO56t"
   },
   "source": [
    "# Collaborative Filtering Recommender System"
   ]
  },
  {
   "cell_type": "markdown",
   "metadata": {
    "id": "96i7_pMPO56t"
   },
   "source": [
    "## Exercise 1\n",
    "In this exercise, we are going to predict the rating of a single user-item pair using a neighborhood-based method.\n",
    "\n",
    "### 1.1\n",
    "- Represent the ratings from the training set in a user-item matrix where the rows represent users and the columns represent items.\n",
    "- Fill unobserved ratings with $0$.\n",
    "- Compute the cosine similarities between the user with `reviewerID`='A25C2M3QF9G7OQ' and all users that have rated the item with `asin`='B00EYZY6LQ'.\n",
    "- What are the similarities and what are the ratings given by these users on item 'B00EYZY6LQ'?"
   ]
  },
  {
   "cell_type": "code",
   "execution_count": 14,
   "metadata": {
    "id": "wlTZisnxO56t"
   },
   "outputs": [],
   "source": [
    "from sklearn.metrics.pairwise import cosine_similarity\n",
    "import numpy as np"
   ]
  },
  {
   "cell_type": "code",
   "execution_count": 15,
   "metadata": {
    "colab": {
     "base_uri": "https://localhost:8080/",
     "height": 483
    },
    "id": "LgeoXw4zO56t",
    "outputId": "5c6cea17-70fb-4b1d-a6b1-bc1c5fac3df8"
   },
   "outputs": [
    {
     "data": {
      "text/html": [
       "<div>\n",
       "<style scoped>\n",
       "    .dataframe tbody tr th:only-of-type {\n",
       "        vertical-align: middle;\n",
       "    }\n",
       "\n",
       "    .dataframe tbody tr th {\n",
       "        vertical-align: top;\n",
       "    }\n",
       "\n",
       "    .dataframe thead th {\n",
       "        text-align: right;\n",
       "    }\n",
       "</style>\n",
       "<table border=\"1\" class=\"dataframe\">\n",
       "  <thead>\n",
       "    <tr style=\"text-align: right;\">\n",
       "      <th></th>\n",
       "      <th>B00EYZY6LQ</th>\n",
       "      <th>cosine similarity</th>\n",
       "    </tr>\n",
       "    <tr>\n",
       "      <th>reviewerID</th>\n",
       "      <th></th>\n",
       "      <th></th>\n",
       "    </tr>\n",
       "  </thead>\n",
       "  <tbody>\n",
       "    <tr>\n",
       "      <th>A1F7YU6O5RU432</th>\n",
       "      <td>5.0</td>\n",
       "      <td>0.079243</td>\n",
       "    </tr>\n",
       "    <tr>\n",
       "      <th>A1R1BFJCMWX0Y3</th>\n",
       "      <td>3.0</td>\n",
       "      <td>0.245145</td>\n",
       "    </tr>\n",
       "    <tr>\n",
       "      <th>A1UQBFCERIP7VJ</th>\n",
       "      <td>5.0</td>\n",
       "      <td>0.058634</td>\n",
       "    </tr>\n",
       "    <tr>\n",
       "      <th>A22CW0ZHY3NJH8</th>\n",
       "      <td>3.0</td>\n",
       "      <td>0.207883</td>\n",
       "    </tr>\n",
       "    <tr>\n",
       "      <th>A2LW5AL0KQ9P1M</th>\n",
       "      <td>4.0</td>\n",
       "      <td>0.275810</td>\n",
       "    </tr>\n",
       "    <tr>\n",
       "      <th>A2PD27UKAD3Q00</th>\n",
       "      <td>5.0</td>\n",
       "      <td>0.000000</td>\n",
       "    </tr>\n",
       "    <tr>\n",
       "      <th>A2WW57XX2UVLM6</th>\n",
       "      <td>4.0</td>\n",
       "      <td>0.000000</td>\n",
       "    </tr>\n",
       "    <tr>\n",
       "      <th>A2ZY49IDE6TY5I</th>\n",
       "      <td>4.0</td>\n",
       "      <td>0.682835</td>\n",
       "    </tr>\n",
       "    <tr>\n",
       "      <th>A39WWMBA0299ZF</th>\n",
       "      <td>5.0</td>\n",
       "      <td>0.000000</td>\n",
       "    </tr>\n",
       "    <tr>\n",
       "      <th>A3M6TSEV71537G</th>\n",
       "      <td>5.0</td>\n",
       "      <td>0.000000</td>\n",
       "    </tr>\n",
       "    <tr>\n",
       "      <th>A3S3R88HA0HZG3</th>\n",
       "      <td>4.0</td>\n",
       "      <td>0.000000</td>\n",
       "    </tr>\n",
       "    <tr>\n",
       "      <th>A914TQVHI872U</th>\n",
       "      <td>5.0</td>\n",
       "      <td>0.245145</td>\n",
       "    </tr>\n",
       "    <tr>\n",
       "      <th>AOEUN9718KVRD</th>\n",
       "      <td>3.0</td>\n",
       "      <td>0.105670</td>\n",
       "    </tr>\n",
       "  </tbody>\n",
       "</table>\n",
       "</div>"
      ],
      "text/plain": [
       "                B00EYZY6LQ  cosine similarity\n",
       "reviewerID                                   \n",
       "A1F7YU6O5RU432         5.0           0.079243\n",
       "A1R1BFJCMWX0Y3         3.0           0.245145\n",
       "A1UQBFCERIP7VJ         5.0           0.058634\n",
       "A22CW0ZHY3NJH8         3.0           0.207883\n",
       "A2LW5AL0KQ9P1M         4.0           0.275810\n",
       "A2PD27UKAD3Q00         5.0           0.000000\n",
       "A2WW57XX2UVLM6         4.0           0.000000\n",
       "A2ZY49IDE6TY5I         4.0           0.682835\n",
       "A39WWMBA0299ZF         5.0           0.000000\n",
       "A3M6TSEV71537G         5.0           0.000000\n",
       "A3S3R88HA0HZG3         4.0           0.000000\n",
       "A914TQVHI872U          5.0           0.245145\n",
       "AOEUN9718KVRD          3.0           0.105670"
      ]
     },
     "execution_count": 15,
     "metadata": {},
     "output_type": "execute_result"
    }
   ],
   "source": [
    "# Loading and preparing data\n",
    "user_item_matrix = df_train.pivot_table(index='reviewerID',columns='asin',values='overall')\n",
    "user_item_matrix = user_item_matrix.fillna(0)\n",
    "target_user = user_item_matrix.loc[['A25C2M3QF9G7OQ']]\n",
    "input_users = user_item_matrix[user_item_matrix['B00EYZY6LQ']>0]\n",
    "users = pd.concat([target_user, input_users])\n",
    "\n",
    "# Write your code here to compute cosine similarity and report results\n",
    "\n",
    "similarities = cosine_similarity(input_users, target_user)\n",
    "target_item = input_users['B00EYZY6LQ'].to_frame('B00EYZY6LQ')\n",
    "target_item[\"cosine similarity\"] = similarities\n",
    "target_item\n"
   ]
  },
  {
   "cell_type": "markdown",
   "metadata": {
    "id": "IKkfg1zYO56t"
   },
   "source": [
    "### 1.2\n",
    "Predict the rating for user 'A25C2M3QF9G7OQ' on item 'B00EYZY6LQ' based on the ratings from the $5$ most similar users, using a weighted (by cosine similarity) average. You do not need to account for the mean rating per user for the weighted average. What is the prediction? Round the predicted rating to 3 decimal places."
   ]
  },
  {
   "cell_type": "code",
   "execution_count": 16,
   "metadata": {
    "id": "WiglShAA-YGp"
   },
   "outputs": [],
   "source": [
    "k = 5\n",
    "target_item_k = target_item.sort_values(by=\"cosine similarity\", ascending=False)[:k]\n"
   ]
  },
  {
   "cell_type": "code",
   "execution_count": 17,
   "metadata": {
    "colab": {
     "base_uri": "https://localhost:8080/"
    },
    "id": "VwlepbayO56u",
    "outputId": "16e58426-0a6c-41d4-9721-46cd0108412e"
   },
   "outputs": [
    {
     "name": "stdout",
     "output_type": "stream",
     "text": [
      "Predicted rating: 3.8745289248148613\n"
     ]
    }
   ],
   "source": [
    "prediction_KNN = (target_item_k['B00EYZY6LQ'] * target_item_k['cosine similarity']).sum() / target_item_k['cosine similarity'].sum()\n",
    "\n",
    "print('Predicted rating:', prediction_KNN)"
   ]
  },
  {
   "cell_type": "code",
   "execution_count": 18,
   "metadata": {
    "id": "yKRuOuN-O56u"
   },
   "outputs": [],
   "source": [
    "### Recommended: Save the dataframe to load them in the next Session\n",
    "\n",
    "df_train.to_pickle(\"train_dataframe.pkl\")\n",
    "df_test.to_pickle(\"test_dataframe.pkl\")"
   ]
  }
 ],
 "metadata": {
  "colab": {
   "provenance": []
  },
  "kernelspec": {
   "display_name": "pytorch-2.5",
   "language": "python",
   "name": "python3"
  },
  "language_info": {
   "codemirror_mode": {
    "name": "ipython",
    "version": 3
   },
   "file_extension": ".py",
   "mimetype": "text/x-python",
   "name": "python",
   "nbconvert_exporter": "python",
   "pygments_lexer": "ipython3",
   "version": "3.10.13"
  }
 },
 "nbformat": 4,
 "nbformat_minor": 0
}
