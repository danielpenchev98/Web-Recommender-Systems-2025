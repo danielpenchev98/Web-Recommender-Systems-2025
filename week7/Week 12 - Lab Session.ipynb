{
 "cells": [
  {
   "cell_type": "markdown",
   "id": "3a33f280",
   "metadata": {},
   "source": [
    "# Explainable Recommender Systems\n",
    "\n",
    "Exercises in this lab focus on explanations that are **integrated into the model**, both collaborative filtering and content-based recommender systems. Please refer to explainable recommender systems lecture slides by Christina Lioma, pages 159-169.\n",
    "\n",
    "Please refer to this supplementary resources for an example of template-based approach for generating textual explanations: https://explainablerecsys.github.io/recsys2022/ "
   ]
  },
  {
   "cell_type": "code",
   "execution_count": 1,
   "id": "ac1a03f9",
   "metadata": {},
   "outputs": [],
   "source": [
    "import pandas as pd\n",
    "from sklearn.metrics.pairwise import cosine_similarity\n",
    "import numpy as np\n",
    "import matplotlib.pyplot as plt"
   ]
  },
  {
   "cell_type": "markdown",
   "id": "5073ff44",
   "metadata": {},
   "source": [
    "## Exercise 1: Explanations based on user-based collaborative filtering\n",
    "In this exercise, we are going to explain the prediction from a neighborhood-based collaborative filtering recommender system. \n",
    "\n",
    "The explanation is in the form of ratings of similar users."
   ]
  },
  {
   "cell_type": "markdown",
   "id": "a34be57f",
   "metadata": {},
   "source": [
    "### 1.1\n",
    "Refer back to Lab Week 6, Collaborative Filtering, Exercise 1.1-1.2, where you computed the cosine similarities (based on ratings) between the user with reviewerID `A25C2M3QF9G7OQ` and all users that have rated the item with asin `B00EYZY6LQ`.\n",
    "\n",
    "Now, predict the rating for user `A25C2M3QF9G7OQ` on item `B00EYZY6LQ` based on the ratings from the $8$ most similar users (previously it was $3$), using a weighted (by similarity) average. What is the predicted rating (rounded to 3 decimal places)?"
   ]
  },
  {
   "cell_type": "code",
   "execution_count": 6,
   "id": "11e5410f",
   "metadata": {},
   "outputs": [
    {
     "data": {
      "text/html": [
       "<div>\n",
       "<style scoped>\n",
       "    .dataframe tbody tr th:only-of-type {\n",
       "        vertical-align: middle;\n",
       "    }\n",
       "\n",
       "    .dataframe tbody tr th {\n",
       "        vertical-align: top;\n",
       "    }\n",
       "\n",
       "    .dataframe thead th {\n",
       "        text-align: right;\n",
       "    }\n",
       "</style>\n",
       "<table border=\"1\" class=\"dataframe\">\n",
       "  <thead>\n",
       "    <tr style=\"text-align: right;\">\n",
       "      <th></th>\n",
       "      <th>B00EYZY6LQ</th>\n",
       "    </tr>\n",
       "    <tr>\n",
       "      <th>reviewerID</th>\n",
       "      <th></th>\n",
       "    </tr>\n",
       "  </thead>\n",
       "  <tbody>\n",
       "    <tr>\n",
       "      <th>A1F7YU6O5RU432</th>\n",
       "      <td>5.0</td>\n",
       "    </tr>\n",
       "    <tr>\n",
       "      <th>A1R1BFJCMWX0Y3</th>\n",
       "      <td>3.0</td>\n",
       "    </tr>\n",
       "    <tr>\n",
       "      <th>A1UQBFCERIP7VJ</th>\n",
       "      <td>5.0</td>\n",
       "    </tr>\n",
       "    <tr>\n",
       "      <th>A22CW0ZHY3NJH8</th>\n",
       "      <td>3.0</td>\n",
       "    </tr>\n",
       "    <tr>\n",
       "      <th>A2LW5AL0KQ9P1M</th>\n",
       "      <td>4.0</td>\n",
       "    </tr>\n",
       "    <tr>\n",
       "      <th>A2PD27UKAD3Q00</th>\n",
       "      <td>5.0</td>\n",
       "    </tr>\n",
       "    <tr>\n",
       "      <th>A2WW57XX2UVLM6</th>\n",
       "      <td>4.0</td>\n",
       "    </tr>\n",
       "    <tr>\n",
       "      <th>A2ZY49IDE6TY5I</th>\n",
       "      <td>4.0</td>\n",
       "    </tr>\n",
       "    <tr>\n",
       "      <th>A39WWMBA0299ZF</th>\n",
       "      <td>5.0</td>\n",
       "    </tr>\n",
       "    <tr>\n",
       "      <th>A3M6TSEV71537G</th>\n",
       "      <td>5.0</td>\n",
       "    </tr>\n",
       "    <tr>\n",
       "      <th>A3S3R88HA0HZG3</th>\n",
       "      <td>4.0</td>\n",
       "    </tr>\n",
       "    <tr>\n",
       "      <th>A914TQVHI872U</th>\n",
       "      <td>5.0</td>\n",
       "    </tr>\n",
       "    <tr>\n",
       "      <th>AOEUN9718KVRD</th>\n",
       "      <td>3.0</td>\n",
       "    </tr>\n",
       "  </tbody>\n",
       "</table>\n",
       "</div>"
      ],
      "text/plain": [
       "                B00EYZY6LQ\n",
       "reviewerID                \n",
       "A1F7YU6O5RU432         5.0\n",
       "A1R1BFJCMWX0Y3         3.0\n",
       "A1UQBFCERIP7VJ         5.0\n",
       "A22CW0ZHY3NJH8         3.0\n",
       "A2LW5AL0KQ9P1M         4.0\n",
       "A2PD27UKAD3Q00         5.0\n",
       "A2WW57XX2UVLM6         4.0\n",
       "A2ZY49IDE6TY5I         4.0\n",
       "A39WWMBA0299ZF         5.0\n",
       "A3M6TSEV71537G         5.0\n",
       "A3S3R88HA0HZG3         4.0\n",
       "A914TQVHI872U          5.0\n",
       "AOEUN9718KVRD          3.0"
      ]
     },
     "execution_count": 6,
     "metadata": {},
     "output_type": "execute_result"
    }
   ],
   "source": [
    "input_users['B00EYZY6LQ'].to_frame('B00EYZY6LQ')"
   ]
  },
  {
   "cell_type": "code",
   "execution_count": 9,
   "id": "c0b6a1e3",
   "metadata": {},
   "outputs": [
    {
     "data": {
      "text/html": [
       "<div>\n",
       "<style scoped>\n",
       "    .dataframe tbody tr th:only-of-type {\n",
       "        vertical-align: middle;\n",
       "    }\n",
       "\n",
       "    .dataframe tbody tr th {\n",
       "        vertical-align: top;\n",
       "    }\n",
       "\n",
       "    .dataframe thead th {\n",
       "        text-align: right;\n",
       "    }\n",
       "</style>\n",
       "<table border=\"1\" class=\"dataframe\">\n",
       "  <thead>\n",
       "    <tr style=\"text-align: right;\">\n",
       "      <th></th>\n",
       "      <th>B00EYZY6LQ</th>\n",
       "      <th>cosine similarity</th>\n",
       "    </tr>\n",
       "    <tr>\n",
       "      <th>reviewerID</th>\n",
       "      <th></th>\n",
       "      <th></th>\n",
       "    </tr>\n",
       "  </thead>\n",
       "  <tbody>\n",
       "    <tr>\n",
       "      <th>A1F7YU6O5RU432</th>\n",
       "      <td>5.0</td>\n",
       "      <td>0.079243</td>\n",
       "    </tr>\n",
       "    <tr>\n",
       "      <th>A1R1BFJCMWX0Y3</th>\n",
       "      <td>3.0</td>\n",
       "      <td>0.245145</td>\n",
       "    </tr>\n",
       "    <tr>\n",
       "      <th>A1UQBFCERIP7VJ</th>\n",
       "      <td>5.0</td>\n",
       "      <td>0.058634</td>\n",
       "    </tr>\n",
       "    <tr>\n",
       "      <th>A22CW0ZHY3NJH8</th>\n",
       "      <td>3.0</td>\n",
       "      <td>0.207883</td>\n",
       "    </tr>\n",
       "    <tr>\n",
       "      <th>A2LW5AL0KQ9P1M</th>\n",
       "      <td>4.0</td>\n",
       "      <td>0.275810</td>\n",
       "    </tr>\n",
       "    <tr>\n",
       "      <th>A2PD27UKAD3Q00</th>\n",
       "      <td>5.0</td>\n",
       "      <td>0.000000</td>\n",
       "    </tr>\n",
       "    <tr>\n",
       "      <th>A2WW57XX2UVLM6</th>\n",
       "      <td>4.0</td>\n",
       "      <td>0.000000</td>\n",
       "    </tr>\n",
       "    <tr>\n",
       "      <th>A2ZY49IDE6TY5I</th>\n",
       "      <td>4.0</td>\n",
       "      <td>0.682835</td>\n",
       "    </tr>\n",
       "    <tr>\n",
       "      <th>A39WWMBA0299ZF</th>\n",
       "      <td>5.0</td>\n",
       "      <td>0.000000</td>\n",
       "    </tr>\n",
       "    <tr>\n",
       "      <th>A3M6TSEV71537G</th>\n",
       "      <td>5.0</td>\n",
       "      <td>0.000000</td>\n",
       "    </tr>\n",
       "    <tr>\n",
       "      <th>A3S3R88HA0HZG3</th>\n",
       "      <td>4.0</td>\n",
       "      <td>0.000000</td>\n",
       "    </tr>\n",
       "    <tr>\n",
       "      <th>A914TQVHI872U</th>\n",
       "      <td>5.0</td>\n",
       "      <td>0.245145</td>\n",
       "    </tr>\n",
       "    <tr>\n",
       "      <th>AOEUN9718KVRD</th>\n",
       "      <td>3.0</td>\n",
       "      <td>0.105670</td>\n",
       "    </tr>\n",
       "  </tbody>\n",
       "</table>\n",
       "</div>"
      ],
      "text/plain": [
       "                B00EYZY6LQ  cosine similarity\n",
       "reviewerID                                   \n",
       "A1F7YU6O5RU432         5.0           0.079243\n",
       "A1R1BFJCMWX0Y3         3.0           0.245145\n",
       "A1UQBFCERIP7VJ         5.0           0.058634\n",
       "A22CW0ZHY3NJH8         3.0           0.207883\n",
       "A2LW5AL0KQ9P1M         4.0           0.275810\n",
       "A2PD27UKAD3Q00         5.0           0.000000\n",
       "A2WW57XX2UVLM6         4.0           0.000000\n",
       "A2ZY49IDE6TY5I         4.0           0.682835\n",
       "A39WWMBA0299ZF         5.0           0.000000\n",
       "A3M6TSEV71537G         5.0           0.000000\n",
       "A3S3R88HA0HZG3         4.0           0.000000\n",
       "A914TQVHI872U          5.0           0.245145\n",
       "AOEUN9718KVRD          3.0           0.105670"
      ]
     },
     "execution_count": 9,
     "metadata": {},
     "output_type": "execute_result"
    }
   ],
   "source": [
    "# Load data splits from Week 6, the files are also uploaded in Absalon under Week 7\n",
    "train_df = pd.read_pickle(\"train_dataframe.pkl\") \n",
    "test_df = pd.read_pickle(\"test_dataframe.pkl\")\n",
    "\n",
    "# Loading and preparing data\n",
    "user_item_matrix = train_df.pivot_table(index='reviewerID',columns='asin',values='overall')\n",
    "user_item_matrix = user_item_matrix.fillna(0)\n",
    "target_user = user_item_matrix.loc[['A25C2M3QF9G7OQ']]\n",
    "input_users = user_item_matrix[user_item_matrix['B00EYZY6LQ']>0]\n",
    "users = pd.concat([target_user, input_users])\n",
    "\n",
    "# Write your code here to compute cosine similarity and report results\n",
    "\n",
    "similarities = cosine_similarity(input_users, target_user)\n",
    "item_rating_per_user = input_users['B00EYZY6LQ'].to_frame('B00EYZY6LQ')\n",
    "item_rating_per_user[\"cosine similarity\"] = similarities\n",
    "item_rating_per_user"
   ]
  },
  {
   "cell_type": "code",
   "execution_count": 10,
   "id": "5373c38c",
   "metadata": {},
   "outputs": [
    {
     "name": "stdout",
     "output_type": "stream",
     "text": [
      "Predicted rating for user A25C2M3QF9G7OQ on item B00EYZY6LQ: 3.908\n"
     ]
    }
   ],
   "source": [
    "k = 8\n",
    "top_k_closest_neighbours = item_rating_per_user.sort_values(by=\"cosine similarity\", ascending=False)[:k]\n",
    "prediction_KNN = (item_rating_per_user['B00EYZY6LQ'] * item_rating_per_user['cosine similarity']).sum() / item_rating_per_user['cosine similarity'].sum()\n",
    "\n",
    "\n",
    "print('Predicted rating for user A25C2M3QF9G7OQ on item B00EYZY6LQ:', round(prediction_KNN,3))"
   ]
  },
  {
   "cell_type": "markdown",
   "id": "ec2f0f83",
   "metadata": {},
   "source": [
    "### 1.2\n",
    "Visualize an explanation of the prediction for the user by plotting a bar plot of the $8$ neighbors' ratings of this beauty product.\n",
    "\n",
    "The x-axis should be the rating (1-5) and the y-axis should be the number of neighbours with that rating of the beauty product."
   ]
  },
  {
   "cell_type": "code",
   "execution_count": null,
   "id": "e1a56d3e",
   "metadata": {},
   "outputs": [
    {
     "data": {
      "text/plain": [
       "reviewerID\n",
       "A2ZY49IDE6TY5I    4.0\n",
       "A2LW5AL0KQ9P1M    4.0\n",
       "A1R1BFJCMWX0Y3    3.0\n",
       "A914TQVHI872U     5.0\n",
       "A22CW0ZHY3NJH8    3.0\n",
       "AOEUN9718KVRD     3.0\n",
       "A1F7YU6O5RU432    5.0\n",
       "A1UQBFCERIP7VJ    5.0\n",
       "Name: B00EYZY6LQ, dtype: float64"
      ]
     },
     "execution_count": 12,
     "metadata": {},
     "output_type": "execute_result"
    }
   ],
   "source": []
  },
  {
   "cell_type": "code",
   "execution_count": null,
   "id": "f95576ce",
   "metadata": {},
   "outputs": [
    {
     "ename": "AttributeError",
     "evalue": "'function' object has no attribute 'tolist'",
     "output_type": "error",
     "traceback": [
      "\u001b[0;31m---------------------------------------------------------------------------\u001b[0m",
      "\u001b[0;31mAttributeError\u001b[0m                            Traceback (most recent call last)",
      "Cell \u001b[0;32mIn[24], line 1\u001b[0m\n\u001b[0;32m----> 1\u001b[0m \u001b[43mtop_k_closest_neighbours\u001b[49m\u001b[38;5;241;43m.\u001b[39;49m\u001b[43mgroupby\u001b[49m\u001b[43m(\u001b[49m\u001b[43mby\u001b[49m\u001b[38;5;241;43m=\u001b[39;49m\u001b[38;5;124;43m'\u001b[39;49m\u001b[38;5;124;43mB00EYZY6LQ\u001b[39;49m\u001b[38;5;124;43m'\u001b[39;49m\u001b[43m)\u001b[49m\u001b[38;5;241;43m.\u001b[39;49m\u001b[43magg\u001b[49m\u001b[43m(\u001b[49m\u001b[43mcount\u001b[49m\u001b[38;5;241;43m=\u001b[39;49m\u001b[43m(\u001b[49m\u001b[38;5;124;43m'\u001b[39;49m\u001b[38;5;124;43mB00EYZY6LQ\u001b[39;49m\u001b[38;5;124;43m'\u001b[39;49m\u001b[43m,\u001b[49m\u001b[43m \u001b[49m\u001b[38;5;124;43m'\u001b[39;49m\u001b[38;5;124;43msize\u001b[39;49m\u001b[38;5;124;43m'\u001b[39;49m\u001b[43m)\u001b[49m\u001b[43m)\u001b[49m\u001b[38;5;241;43m.\u001b[39;49m\u001b[43mcount\u001b[49m\u001b[38;5;241;43m.\u001b[39;49m\u001b[43mtolist\u001b[49m()\n",
      "\u001b[0;31mAttributeError\u001b[0m: 'function' object has no attribute 'tolist'"
     ]
    }
   ],
   "source": [
    "top_k_closest_neighbours.groupby(by='B00EYZY6LQ').agg(cnt=('B00EYZY6LQ', 'size'))"
   ]
  },
  {
   "cell_type": "code",
   "execution_count": 25,
   "id": "6e5f2056",
   "metadata": {},
   "outputs": [
    {
     "data": {
      "image/png": "[encoded data removed]",
      "text/plain": [
       "<Figure size 640x480 with 1 Axes>"
      ]
     },
     "metadata": {},
     "output_type": "display_data"
    }
   ],
   "source": [
    "rating_summary_of_specific_item = top_k_closest_neighbours.groupby(by='B00EYZY6LQ').agg(cnt=('B00EYZY6LQ', 'size'))\n",
    "\n",
    "\n",
    "neighbors_rating = rating_summary_of_specific_item.index.tolist()\n",
    "neighbors_number = rating_summary_of_specific_item.cnt.tolist()\n",
    "\n",
    "\n",
    "#<YOUR CODE HERE>\n",
    "\n",
    "\n",
    "\n",
    "%matplotlib inline\n",
    "plt.bar(neighbors_rating, neighbors_number)\n",
    "plt.xticks(neighbors_rating)\n",
    "plt.yticks(range(1, np.max(neighbors_number)+1))\n",
    "plt.xlabel('Rating')\n",
    "plt.ylabel('Number of neighbors')\n",
    "plt.title('Your neighbors’ ratings for this beauty product')\n",
    "plt.show()"
   ]
  },
  {
   "cell_type": "markdown",
   "id": "47677c56",
   "metadata": {},
   "source": [
    "## Exercise 2: Explanations based on content-based recommender system\n",
    "\n",
    "In this exercise, we are going to explain the prediction from a content-based recommender system. \n",
    "\n",
    "The explanation is in the form of the item features that are similar to the items that have been rated by a user. \n",
    "\n",
    "### 2.1\n",
    "\n",
    "Print **all** the items rated by the user with reviewerID `A39WWMBA0299ZF` (in `train_df`) and look at all the `title` given in the metadata.\n",
    "\n",
    "_Hint_: there should be 3 items."
   ]
  },
  {
   "cell_type": "code",
   "execution_count": null,
   "id": "f4ce4c30",
   "metadata": {},
   "outputs": [],
   "source": [
    "# uncomment and run this line to see enlarge the column width of pandas dataframe\n",
    "# pd.set_option('display.max_colwidth', None)"
   ]
  },
  {
   "cell_type": "code",
   "execution_count": 30,
   "id": "52f2d6aa",
   "metadata": {},
   "outputs": [],
   "source": [
    "import os\n",
    "import sys\n",
    "sys.path.append('../')\n",
    "import pickle\n",
    "import pandas as pd\n",
    "\n",
    "# Load the metadata (items)\n",
    "item_metadata = pd.read_json(\"meta_All_Beauty.json\", lines=True)\n",
    "user_id = 'A39WWMBA0299ZF'\n",
    "\n",
    "rated_items = train_df[train_df.reviewerID==user_id].asin.tolist()\n",
    "\n",
    "#<YOUR CODE HERE>\n"
   ]
  },
  {
   "cell_type": "code",
   "execution_count": 34,
   "id": "fb0cbde0",
   "metadata": {},
   "outputs": [
    {
     "data": {
      "text/plain": [
       "['B0010ZBORW', 'B001LNODUS', 'B00EYZY6LQ']"
      ]
     },
     "execution_count": 34,
     "metadata": {},
     "output_type": "execute_result"
    }
   ],
   "source": [
    "rated_items"
   ]
  },
  {
   "cell_type": "code",
   "execution_count": 33,
   "id": "ae380cad",
   "metadata": {},
   "outputs": [
    {
     "data": {
      "text/plain": [
       "['Urban Spa Moisturizing Booties to Keep your Feet Smooth, Hydrated and Moisturized',\n",
       " 'Pre de Provence Maison French Dried Lavender Blossoms for Fragrance',\n",
       " 'Fekkai Full Blown Aerosol Foam Cond Us 6.6 Oz, 6.660-Fluid Ounce']"
      ]
     },
     "execution_count": 33,
     "metadata": {},
     "output_type": "execute_result"
    }
   ],
   "source": [
    "item_metadata[item_metadata.asin.isin(rated_items)].title.tolist()"
   ]
  },
  {
   "cell_type": "markdown",
   "id": "7c0abd8d",
   "metadata": {},
   "source": [
    "### 2.2\n",
    "\n",
    "Recall that in Lab Week 10, Exercise 1, we used a content-based recommender system based on TF-IDF to get the top-5 recommended items for user `A39WWMBA0299ZF`. The recommended items are in this order: 'B019FWRG3C', 'B00W259T7G', 'B00IJHY54S', 'B0006O10P4', 'B00006L9LC'\n",
    "\n",
    "Print the item titles given in the metadata. What do these titles have in common with the titles of the items rated by the user?\n",
    "\n",
    "Check if one of the recommended items is in the test set (`test_df`)."
   ]
  },
  {
   "cell_type": "code",
   "execution_count": 36,
   "id": "440e3736",
   "metadata": {},
   "outputs": [],
   "source": [
    "recommended_item = ['B019FWRG3C', 'B00W259T7G', 'B00IJHY54S', 'B0006O10P4', 'B00006L9LC']"
   ]
  },
  {
   "cell_type": "code",
   "execution_count": 38,
   "id": "1ab0675a",
   "metadata": {},
   "outputs": [
    {
     "name": "stdout",
     "output_type": "stream",
     "text": [
      "These are the titles of the recommended items:\n"
     ]
    },
    {
     "data": {
      "text/plain": [
       "['Citre Shine Moisture Burst Shampoo - 16 fl oz',\n",
       " 'Citre Shine Moisture Burst Shampoo - 16 fl oz',\n",
       " 'ZUM Zum Bar Anise Lavender, 3 Ounce',\n",
       " 'Spongelle Wild Flower 14+ Uses Body Wash Buffer, French Lavender, 4.25&quot; x 1.25&quot;',\n",
       " 'Pre de Provence Artisanal French Soap Bar Enriched with Shea Butter, Quad-Milled For A Smooth &amp; Rich Lather (150 grams) - Raspberry',\n",
       " 'Pre De Provence Maison French Lavender Bath &amp; Shower Gel']"
      ]
     },
     "execution_count": 38,
     "metadata": {},
     "output_type": "execute_result"
    }
   ],
   "source": [
    "print(\"These are the titles of the recommended items:\")\n",
    "\n",
    "item_metadata[item_metadata.asin.isin(recommended_item)].title.tolist()\n",
    "#<YOUR CODE HERE>\n"
   ]
  },
  {
   "cell_type": "code",
   "execution_count": 39,
   "id": "2226c8be",
   "metadata": {},
   "outputs": [
    {
     "name": "stdout",
     "output_type": "stream",
     "text": [
      "Item B019FWRG3C is rated by the user in the test set.\n"
     ]
    }
   ],
   "source": [
    "print(f\"Item {test_df[test_df.reviewerID=='A39WWMBA0299ZF'].asin.values[0]} is rated by the user in the test set.\")"
   ]
  },
  {
   "cell_type": "code",
   "execution_count": null,
   "id": "5840d853",
   "metadata": {},
   "outputs": [],
   "source": []
  }
 ],
 "metadata": {
  "kernelspec": {
   "display_name": "recsys",
   "language": "python",
   "name": "python3"
  },
  "language_info": {
   "codemirror_mode": {
    "name": "ipython",
    "version": 3
   },
   "file_extension": ".py",
   "mimetype": "text/x-python",
   "name": "python",
   "nbconvert_exporter": "python",
   "pygments_lexer": "ipython3",
   "version": "3.10.16"
  }
 },
 "nbformat": 4,
 "nbformat_minor": 5
}
